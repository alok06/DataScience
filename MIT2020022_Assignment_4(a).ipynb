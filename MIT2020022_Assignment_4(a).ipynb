{
  "nbformat": 4,
  "nbformat_minor": 0,
  "metadata": {
    "colab": {
      "name": "MIT2020022_Assignment_4(a).ipynb",
      "provenance": [],
      "collapsed_sections": [],
      "authorship_tag": "ABX9TyMcsWL5rzCk2ewnG7TtGoYa",
      "include_colab_link": true
    },
    "kernelspec": {
      "name": "python3",
      "display_name": "Python 3"
    }
  },
  "cells": [
    {
      "cell_type": "markdown",
      "metadata": {
        "id": "view-in-github",
        "colab_type": "text"
      },
      "source": [
        "<a href=\"https://colab.research.google.com/github/alok06/DataScience/blob/master/MIT2020022_Assignment_4(a).ipynb\" target=\"_parent\"><img src=\"https://colab.research.google.com/assets/colab-badge.svg\" alt=\"Open In Colab\"/></a>"
      ]
    },
    {
      "cell_type": "code",
      "metadata": {
        "id": "qtFWeO9kdxGQ"
      },
      "source": [
        "from sklearn.datasets import load_breast_cancer\r\n",
        "import numpy as np\r\n",
        "from numpy.random import rand\r\n",
        "data = load_breast_cancer()\r\n",
        "x_data = data.data\r\n",
        "print(x_data.shape)\r\n",
        "y_data = data.target\r\n",
        "print(y_data.shape)\r\n",
        "x_train=x_data[:450]\r\n",
        "x_label=y_data[:450]\r\n",
        "validation_train=x_data[450:]\r\n",
        "validation_label=y_data[450:]\r\n",
        "x_train[0].shape"
      ],
      "execution_count": null,
      "outputs": []
    },
    {
      "cell_type": "code",
      "metadata": {
        "id": "Z6Nbwh65LCTT"
      },
      "source": [
        "def hypothesis(x, weight,bias):\r\n",
        "    z = np.dot(x, weight)+bias\r\n",
        "    return 1 / (1 + np.exp(-z))\r\n"
      ],
      "execution_count": 21,
      "outputs": []
    },
    {
      "cell_type": "code",
      "metadata": {
        "id": "F6OqhmKtlPbg"
      },
      "source": [
        "def cost_function(x, y, weights,bias):\r\n",
        "        cost=0\r\n",
        "        for i,j in zip(x,y):\r\n",
        "          h = hypothesis(i,weights,bias)\r\n",
        "          cost=cost+(- j) * (np.log(h)) - (1 - j ) * (np.log(1- h))\r\n",
        "          cost=cost/len(x)\r\n",
        "        return cost  "
      ],
      "execution_count": 22,
      "outputs": []
    },
    {
      "cell_type": "code",
      "metadata": {
        "id": "d_vpSZkqjKBd"
      },
      "source": [
        "def fit(train_data, label, epochs, lr,weights,bias):\r\n",
        "\r\n",
        "    loss = []\r\n",
        "    N = len(train_data[0])\r\n",
        "\r\n",
        "    for i in range(epochs):\r\n",
        "        h = hypothesis(train_data, weights, bias)\r\n",
        "        weight_derivative = ( 1 / N ) * np.dot(train_data.T, h - label)\r\n",
        "        bias_derivative = ( 1 / N ) * np.sum(h - label)\r\n",
        "        \r\n",
        "        weights =weights  - weight_derivative * lr\r\n",
        "        bias = bias - bias_derivative * lr\r\n",
        "        loss.append(cost_function(train_data, label, weights,bias))\r\n",
        "    return weights, bias, loss"
      ],
      "execution_count": 23,
      "outputs": []
    },
    {
      "cell_type": "code",
      "metadata": {
        "id": "RCBgPiqnkYJf",
        "colab": {
          "base_uri": "https://localhost:8080/"
        },
        "outputId": "93b9b4c4-284f-4790-fae6-d3f419825fb7"
      },
      "source": [
        "\r\n",
        "learning_rate = 0.1\r\n",
        "iterations = 1000\r\n",
        "bias = 0.0\r\n",
        "\r\n",
        "weights = np.zeros( len(x_train[0]))\r\n",
        "weights, bias, loss = fit(x_train,x_label,iterations, learning_rate, weights, bias)"
      ],
      "execution_count": 27,
      "outputs": [
        {
          "output_type": "stream",
          "text": [
            "/usr/local/lib/python3.6/dist-packages/ipykernel_launcher.py:3: RuntimeWarning: overflow encountered in exp\n",
            "  This is separate from the ipykernel package so we can avoid doing imports until\n",
            "/usr/local/lib/python3.6/dist-packages/ipykernel_launcher.py:5: RuntimeWarning: divide by zero encountered in log\n",
            "  \"\"\"\n",
            "/usr/local/lib/python3.6/dist-packages/ipykernel_launcher.py:5: RuntimeWarning: invalid value encountered in multiply\n",
            "  \"\"\"\n"
          ],
          "name": "stderr"
        }
      ]
    },
    {
      "cell_type": "code",
      "metadata": {
        "id": "iDDzT4OKx0xy"
      },
      "source": [
        "def predict(x):\r\n",
        "   \r\n",
        "  result = hypothesis(x, weights,bias)\r\n",
        "  result = result >= 0.5\r\n",
        "  y_pred = np.zeros(result.shape[0])\r\n",
        "  for i in range(len(y_pred)):\r\n",
        "    if result[i] == True:\r\n",
        "      y_pred[i] = 1\r\n",
        "    else:\r\n",
        "        y_pred[i] =0\r\n",
        "                \r\n",
        "  return y_pred"
      ],
      "execution_count": 28,
      "outputs": []
    },
    {
      "cell_type": "code",
      "metadata": {
        "colab": {
          "base_uri": "https://localhost:8080/"
        },
        "id": "hjakjTTMxvip",
        "outputId": "ad0adfa1-237f-4023-840f-08848e163791"
      },
      "source": [
        "train_predict=predict(x_train)\r\n",
        "print('accuracy -> {}'.format(sum(train_predict ==x_label ) / x_label.shape[0]))\r\n",
        "validation_predict=predict(validation_train)\r\n",
        "print('accuracy -> {}'.format(sum(validation_predict == validation_label) / validation_label.shape[0]))\r\n"
      ],
      "execution_count": 29,
      "outputs": [
        {
          "output_type": "stream",
          "text": [
            "accuracy -> 0.92\n",
            "accuracy -> 0.9243697478991597\n"
          ],
          "name": "stdout"
        },
        {
          "output_type": "stream",
          "text": [
            "/usr/local/lib/python3.6/dist-packages/ipykernel_launcher.py:3: RuntimeWarning: overflow encountered in exp\n",
            "  This is separate from the ipykernel package so we can avoid doing imports until\n"
          ],
          "name": "stderr"
        }
      ]
    }
  ]
}